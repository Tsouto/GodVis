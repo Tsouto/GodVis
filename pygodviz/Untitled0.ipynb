{
 "metadata": {
  "name": "",
  "signature": "sha256:96595817a645812abee1a2bd5d234dca8721718b14489444e1c505b15eeeb35f"
 },
 "nbformat": 3,
 "nbformat_minor": 0,
 "worksheets": [
  {
   "cells": [
    {
     "cell_type": "code",
     "collapsed": false,
     "input": [
      "from unittest import TestCase"
     ],
     "language": "python",
     "metadata": {},
     "outputs": [],
     "prompt_number": 1
    },
    {
     "cell_type": "code",
     "collapsed": false,
     "input": [
      "class Test"
     ],
     "language": "python",
     "metadata": {},
     "outputs": []
    }
   ],
   "metadata": {}
  }
 ]
}