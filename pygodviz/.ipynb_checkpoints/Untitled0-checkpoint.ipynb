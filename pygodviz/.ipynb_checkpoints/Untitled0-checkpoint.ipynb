{
 "metadata": {
  "name": "",
  "signature": "sha256:6c21042e314c24b6a5e731fd66b4bfc226e81e8fe795f0155d2812d77ec145ac"
 },
 "nbformat": 3,
 "nbformat_minor": 0,
 "worksheets": []
}